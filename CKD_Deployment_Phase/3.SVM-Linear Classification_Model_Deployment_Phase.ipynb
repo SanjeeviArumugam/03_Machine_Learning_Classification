{
 "cells": [
  {
   "cell_type": "code",
   "execution_count": 1,
   "id": "b696dcef-43e9-4c6f-aa1a-ecb6fc3f0ca6",
   "metadata": {},
   "outputs": [],
   "source": [
    "import pickle"
   ]
  },
  {
   "cell_type": "code",
   "execution_count": 2,
   "id": "871588f0-b7e4-496f-bdc2-bbe9d24b604f",
   "metadata": {},
   "outputs": [],
   "source": [
    "loaded_model=pickle.load(open(\"finalized_model_SVMC.sav\",'rb'))"
   ]
  },
  {
   "cell_type": "code",
   "execution_count": 3,
   "id": "5be103c3-4323-482b-976a-726f023a8f03",
   "metadata": {},
   "outputs": [
    {
     "name": "stdin",
     "output_type": "stream",
     "text": [
      "age: 33\n",
      "bp: 70\n",
      "al: 2\n",
      "su: 2\n",
      "bgr: 220\n",
      "bu: 115\n",
      "sc: 1.5\n",
      "sod: 125\n",
      "pot: 5.5\n",
      "hrmo: 12.5\n",
      "pc_normal: 1\n",
      "pcc_present: 0\n",
      "ba_present: 0\n",
      "htn_yes: 1\n",
      "dm_yes: 0\n",
      "cad_yes: 0\n",
      "appet_yes: 1\n",
      "pe_yes: 0\n",
      "ane_yes: 0\n"
     ]
    }
   ],
   "source": [
    "age_input=float(input(\"age:\"))\n",
    "bp_input=float(input(\"bp:\"))\n",
    "al_input=float(input(\"al:\"))\n",
    "su_input=float(input(\"su:\"))\n",
    "bgr_input=float(input(\"bgr:\"))\n",
    "bu_input=float(input(\"bu:\"))\n",
    "sc_input=float(input(\"sc:\"))\n",
    "sod_input=float(input(\"sod:\"))\n",
    "pot_input=float(input(\"pot:\"))\n",
    "hrmo_input=float(input(\"hrmo:\"))\n",
    "pc_normal_input=float(input(\"pc_normal:\"))\n",
    "pcc_present_input=float(input(\"pcc_present:\"))\n",
    "ba_present_input=float(input(\"ba_present:\"))\n",
    "htn_yes_input=float(input(\"htn_yes:\"))\n",
    "dm_yes_input=float(input(\"dm_yes:\"))\n",
    "cad_yes_input=float(input(\"cad_yes:\"))\n",
    "appet_yes_input=float(input(\"appet_yes:\"))\n",
    "pe_yes_input=float(input(\"pe_yes:\"))\n",
    "ane_yes_input=float(input(\"ane_yes:\"))"
   ]
  },
  {
   "cell_type": "code",
   "execution_count": 4,
   "id": "54471555-b198-4513-9416-2a3e0d6120cc",
   "metadata": {},
   "outputs": [
    {
     "name": "stdout",
     "output_type": "stream",
     "text": [
      "Future_Prediction=[1]\n"
     ]
    },
    {
     "name": "stderr",
     "output_type": "stream",
     "text": [
      "C:\\Users\\Mellinaa Sanjeevi\\anaconda3\\Lib\\site-packages\\sklearn\\base.py:493: UserWarning: X does not have valid feature names, but SVC was fitted with feature names\n",
      "  warnings.warn(\n"
     ]
    }
   ],
   "source": [
    "Future_Prediction=loaded_model.predict([[age_input,bp_input,al_input,su_input,bgr_input,bu_input,sc_input,sod_input,pot_input,hrmo_input,pc_normal_input,pcc_present_input,ba_present_input,htn_yes_input,dm_yes_input,cad_yes_input,appet_yes_input,pe_yes_input,ane_yes_input]])# change the paramter,play with it.\n",
    "print(\"Future_Prediction={}\".format(Future_Prediction))"
   ]
  }
 ],
 "metadata": {
  "kernelspec": {
   "display_name": "Python 3 (ipykernel)",
   "language": "python",
   "name": "python3"
  },
  "language_info": {
   "codemirror_mode": {
    "name": "ipython",
    "version": 3
   },
   "file_extension": ".py",
   "mimetype": "text/x-python",
   "name": "python",
   "nbconvert_exporter": "python",
   "pygments_lexer": "ipython3",
   "version": "3.12.4"
  }
 },
 "nbformat": 4,
 "nbformat_minor": 5
}
